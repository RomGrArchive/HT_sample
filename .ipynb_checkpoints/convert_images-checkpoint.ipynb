{
 "cells": [
  {
   "cell_type": "code",
   "execution_count": 1,
   "id": "efba6ddb-87f6-4fb5-97a0-e6db6db156aa",
   "metadata": {},
   "outputs": [
    {
     "name": "stdout",
     "output_type": "stream",
     "text": [
      "Saved: ./images_webp/global_no_bg.webp\n",
      "Saved: ./images_webp/azimuth.webp\n",
      "Saved: ./images_webp/TCC.webp\n",
      "Saved: ./images_webp/depolarization.webp\n",
      "Saved: ./images_webp/retardance.webp\n",
      "Saved: ./images_webp/azimuth_local_var.webp\n",
      "Saved: ./images_webp/GM_WM.webp\n"
     ]
    }
   ],
   "source": [
    "from PIL import Image\n",
    "import os\n",
    "\n",
    "input_dir = './images'\n",
    "output_dir = './images_webp'\n",
    "os.makedirs(output_dir, exist_ok=True)\n",
    "\n",
    "quality = 80\n",
    "\n",
    "for filename in os.listdir(input_dir):\n",
    "    if not filename.lower().endswith(('.png', '.jpg', '.jpeg')):\n",
    "        continue\n",
    "\n",
    "    filepath = os.path.join(input_dir, filename)\n",
    "    base_name = os.path.splitext(filename)[0]\n",
    "\n",
    "    try:\n",
    "        with Image.open(filepath) as img:\n",
    "            webp_path = os.path.join(output_dir, f\"{base_name}.webp\")\n",
    "            img.save(webp_path, 'WEBP', quality=quality)\n",
    "            print(f\"Saved: {webp_path}\")\n",
    "\n",
    "    except Exception as e:\n",
    "        print(f\"Error with {filename}: {e}\")\n"
   ]
  },
  {
   "cell_type": "code",
   "execution_count": null,
   "id": "eb071639-6e6a-49f8-9c4e-d8e93b6fdab5",
   "metadata": {},
   "outputs": [],
   "source": []
  }
 ],
 "metadata": {
  "kernelspec": {
   "display_name": "Python 3 (ipykernel)",
   "language": "python",
   "name": "python3"
  },
  "language_info": {
   "codemirror_mode": {
    "name": "ipython",
    "version": 3
   },
   "file_extension": ".py",
   "mimetype": "text/x-python",
   "name": "python",
   "nbconvert_exporter": "python",
   "pygments_lexer": "ipython3",
   "version": "3.12.8"
  }
 },
 "nbformat": 4,
 "nbformat_minor": 5
}
