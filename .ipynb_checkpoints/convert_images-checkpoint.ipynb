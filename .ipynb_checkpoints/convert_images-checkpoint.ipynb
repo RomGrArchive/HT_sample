{
 "cells": [
  {
   "cell_type": "code",
   "execution_count": 8,
   "id": "efba6ddb-87f6-4fb5-97a0-e6db6db156aa",
   "metadata": {},
   "outputs": [
    {
     "name": "stdout",
     "output_type": "stream",
     "text": [
      "Converted and saved: ./images_webp/global_no_bg.webp\n",
      "Converted and saved: ./images_webp/azimuth.webp\n",
      "Converted and saved: ./images_webp/TCC.webp\n",
      "Converted and saved: ./images_webp/depolarization.webp\n",
      "Converted and saved: ./images_webp/retardance.webp\n",
      "Converted and saved: ./images_webp/azimuth_local_var.webp\n",
      "Converted and saved: ./images_webp/GM_WM.webp\n"
     ]
    }
   ],
   "source": [
    "from PIL import Image\n",
    "import os\n",
    "\n",
    "input_dir = './images'\n",
    "output_dir = './images_webp'\n",
    "max_width = 1200  # adjust as needed\n",
    "webp_quality = 80\n",
    "\n",
    "os.makedirs(output_dir, exist_ok=True)\n",
    "\n",
    "for filename in os.listdir(input_dir):\n",
    "    if not filename.lower().endswith(('.png', '.jpg', '.jpeg')):\n",
    "        continue\n",
    "\n",
    "    filepath = os.path.join(input_dir, filename)\n",
    "    try:\n",
    "        with Image.open(filepath) as img:\n",
    "            # Resize if wider than max_width\n",
    "            if img.width > max_width:\n",
    "                ratio = max_width / float(img.width)\n",
    "                new_height = int((float(img.height) * ratio))\n",
    "                img = img.resize((max_width, new_height), Image.LANCZOS)\n",
    "\n",
    "            # Convert and save as WebP\n",
    "            webp_path = os.path.join(output_dir, os.path.splitext(filename)[0] + '.webp')\n",
    "            img.save(webp_path, 'WEBP', quality=webp_quality)\n",
    "            print(f\"Converted and saved: {webp_path}\")\n",
    "\n",
    "    except Exception as e:\n",
    "        print(f\"Failed to process {filename}: {e}\")\n"
   ]
  },
  {
   "cell_type": "code",
   "execution_count": null,
   "id": "f111e4b8-d155-4061-9b81-c2a0513e2582",
   "metadata": {},
   "outputs": [],
   "source": []
  }
 ],
 "metadata": {
  "kernelspec": {
   "display_name": "Python 3 (ipykernel)",
   "language": "python",
   "name": "python3"
  },
  "language_info": {
   "codemirror_mode": {
    "name": "ipython",
    "version": 3
   },
   "file_extension": ".py",
   "mimetype": "text/x-python",
   "name": "python",
   "nbconvert_exporter": "python",
   "pygments_lexer": "ipython3",
   "version": "3.12.8"
  }
 },
 "nbformat": 4,
 "nbformat_minor": 5
}
